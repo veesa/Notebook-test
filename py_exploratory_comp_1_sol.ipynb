








<!DOCTYPE html>
<html lang="en">

<head>
  <meta charset="utf-8">
  <title>Jupyter Notebook Viewer</title>
  <meta name="viewport" content="width=device-width, initial-scale=1.0">
  <meta name="description" content="">
  <meta name="author" content="">
  
  <meta name="robots" content="noindex,nofollow">
  

  <!--NEW RELIC Start Perf Measurement-->
  
  <!--NREND-->

  <!-- Le styles -->
  <script src="/cdn-cgi/apps/head/MuIIl4I_IVFkxldaVu1mdWee9as.js"></script><link href="/static/build/styles.css?v=af7ff69ae1abb8954a21dbb2241d4e24" rel="stylesheet">

  <!-- Le HTML5 shim, for IE6-8 support of HTML5 elements -->
  <!--[if lt IE 9]>
    <script src="http://html5shim.googlecode.com/svn/trunk/html5.js"></script>
  <![endif]-->

  <!-- Le fav and touch icons -->
  <link rel="shortcut icon" href="/static/ico/ipynb_icon_16x16.png">
  <link rel="apple-touch-icon-precomposed" sizes="144x144"
        href="/static/ico/apple-touch-icon-144-precomposed.png?v=5a3c9ede93e2a8b8ea9e3f8f3da1a905">
  <link rel="apple-touch-icon-precomposed" sizes="114x114"
        href="/static/ico/apple-touch-icon-114-precomposed.png?v=45d86fc8f24dc00638035e1dd7a6d898">
  <link rel="apple-touch-icon-precomposed" sizes="72x72"
        href="/static/ico/apple-touch-icon-72-precomposed.png?v=540b5eb0f3cfd25f1439d1c9bd30e15f">
  <link rel="apple-touch-icon-precomposed"
        href="/static/ico/apple-touch-icon-57-precomposed.png?v=225f0590e187e1458625654f10a28f56">
  
  

  

  
  <meta name="twitter:card" content="summary">
  <meta name="twitter:title" content="Notebook on nbviewer">
  <meta name="twitter:description" content="Check out this Jupyter notebook!">

  
  <meta name="twitter:domain" content="nbviewer.ipython.org">
  <meta name="twitter:image:src" content="http://ipython.org/ipython-doc/dev/_images/ipynb_icon_128x128.png">

  
    <link href="/static/build/notebook.css?v=70404d2166a8ab8949e8e1cdff07b91f" rel="stylesheet">
  

  

  
    <script src="https://cdnjs.cloudflare.com/ajax/libs/mathjax/2.7.1/MathJax.js?config=TeX-AMS_HTML" type="text/javascript">
    </script>
    <script type="text/javascript">
      init_mathjax = function() {
        if (window.MathJax) {
          // MathJax loaded
          MathJax.Hub.Config({
            TeX: {
              equationNumbers: {
                autoNumber: "AMS",
                useLabelIds: true
              }
            },
            tex2jax: {
              inlineMath: [ ['$','$'], ["\\(","\\)"] ],
              displayMath: [ ['$$','$$'], ["\\[","\\]"] ],
              processEscapes: true,
              processEnvironments: true
            },
            displayAlign: 'center',
            "HTML-CSS": {
              styles: {'.MathJax_Display': {"margin": 0}},
              linebreaks: { automatic: true }
            }
          });
          MathJax.Hub.Queue(["Typeset", MathJax.Hub]);
        }
      }
      init_mathjax();
    </script>
  

  
    <script>
      (function() {
        function addWidgetsRenderer() {
          var mimeElement = document.querySelector('script[type="application/vnd.jupyter.widget-view+json"]');
          var scriptElement = document.createElement('script');
          var widgetRendererSrc = 'https://unpkg.com/@jupyter-widgets/html-manager@*/dist/embed-amd.js';
          var widgetState;

          try {
            widgetState = mimeElement && JSON.parse(mimeElement.innerHTML);

            if (widgetState && (widgetState.version_major < 2 || !widgetState.version_major)) {
              widgetRendererSrc = 'https://unpkg.com/jupyter-js-widgets@*/dist/embed.js';
            }
          } catch(e) {}

          scriptElement.src = widgetRendererSrc;
          document.body.appendChild(scriptElement);
        }

        document.addEventListener('DOMContentLoaded', addWidgetsRenderer);
      }());
    </script>
  

</head>

<body class="nbviewer">

  <!-- These are loaded at the top of the body so they are available to
       notebook cells when they are loaded below. -->
  <script src="/static/components/jquery/dist/jquery.min.js?v=a09e13ee94d51c524b7e2a728c7d4039"></script>
  <script src="/static/components/requirejs/require.js?v=6da8be361b9ee26c5e721e76c6d4afce"></script>
  <script src="/static/components/moment/min/moment.min.js?v=89f87298ad94aa1e6b92f42eb66da043"></script>
<!-- Navbar
================================================== -->
  <nav id="menubar" class="navbar navbar-default navbar-fixed-top" data-spy="affix">
    <div class="container">
      <div class="navbar-header">
        <button type="button" class="navbar-toggle collapsed" data-toggle="collapse" data-target=".navbar-collapse">
          <span class="sr-only">Toggle navigation</span>
          <i class="fa fa-bars"></i>
        </button>
        <a class="navbar-brand" href="/">
          <img src="/static/img/nav_logo.svg?v=479cefe8d932fb14a67b93911b97d70f" width="159"/>
        </a>
      </div>

      <div class="collapse navbar-collapse">
        <ul class="nav navbar-nav navbar-right">
          <li>
            <a class="active" href="http://jupyter.org">JUPYTER</a>
          </li>
          <li>
    <a href="/faq" title="FAQ" >
      
        <span>FAQ</span>
      
    </a>
  </li>

          
  
    
  
    
      
        <li>
    <a href="/format/script/github/mbakker7/exploratory_computing_with_python/blob/master/notebook1_basics_plotting/py_exploratory_comp_1_sol.ipynb" title="View as Code" >
      <span class="fa fa-code fa-2x menu-icon"></span>
      <span class="menu-text">View as Code</span>
    </a>
  </li>
      
    
  

  
    <li>
    <a href="#" title="Python 3 Kernel" >
      <span class="fa fa-server fa-2x menu-icon"></span>
      <span class="menu-text">Python 3 Kernel</span>
    </a>
  </li>
  

  
    <li>
    <a href="https://github.com/mbakker7/exploratory_computing_with_python/blob/master/notebook1_basics_plotting/py_exploratory_comp_1_sol.ipynb" title="View on GitHub" >
      <span class="fa fa-github fa-2x menu-icon"></span>
      <span class="menu-text">View on GitHub</span>
    </a>
  </li>
  

  <li>
    <a href="https://raw.githubusercontent.com/mbakker7/exploratory_computing_with_python/master/notebook1_basics_plotting/py_exploratory_comp_1_sol.ipynb" title="Download Notebook" download>
      <span class="fa fa-download fa-2x menu-icon"></span>
      <span class="menu-text">Download Notebook</span>
    </a>
  </li>

        </ul>
      </div><!-- /.navbar-collapse -->
      
      
    </div>
  </nav>

  <div class="container container-main">
    
  
  <ol class="breadcrumb">
    
      <li>
        <a href="/github/mbakker7/exploratory_computing_with_python/tree/master">exploratory_computing_with_python</a>
      </li>
    
      <li>
        <a href="/github/mbakker7/exploratory_computing_with_python/tree/master/notebook1_basics_plotting">notebook1_basics_plotting</a>
      </li>
    
  </ol>
  
  <div id="notebook">
    <div id="notebook-container">
      
<div class="cell border-box-sizing text_cell rendered"><div class="prompt input_prompt">
</div>
<div class="inner_cell">
<div class="text_cell_render border-box-sizing rendered_html">
<figure>
  <IMG SRC="https://raw.githubusercontent.com/mbakker7/exploratory_computing_with_python/master/tudelft_logo.png" WIDTH=250 ALIGN="right">
</figure><h1 id="Exploratory-Computing-with-Python">Exploratory Computing with Python<a class="anchor-link" href="#Exploratory-Computing-with-Python">&#182;</a></h1><p><em>Developed by Mark Bakker</em></p>

</div>
</div>
</div>
<div class="cell border-box-sizing text_cell rendered"><div class="prompt input_prompt">
</div>
<div class="inner_cell">
<div class="text_cell_render border-box-sizing rendered_html">
<h2 id="Notebook-1:-Basics-and-Plotting">Notebook 1: Basics and Plotting<a class="anchor-link" href="#Notebook-1:-Basics-and-Plotting">&#182;</a></h2><h3 id="First-Python-steps">First Python steps<a class="anchor-link" href="#First-Python-steps">&#182;</a></h3><p>Portable, powerful, and a breeze to use, Python is a popular, open-source programming language used for both scripting applications and standalone programs. Python can be used to do pretty much anything. For example, you can use Python as a calculator. Position your cursor in the code cell below and hit [shift][enter]. The output should be 12 (-:</p>

</div>
</div>
</div>
<div class="cell border-box-sizing code_cell rendered">
<div class="input">
<div class="prompt input_prompt">In&nbsp;[1]:</div>
<div class="inner_cell">
    <div class="input_area">
<div class=" highlight hl-ipython3"><pre><span></span><span class="mi">6</span> <span class="o">*</span> <span class="mi">2</span>
</pre></div>

</div>
</div>
</div>

<div class="output_wrapper">
<div class="output">


<div class="output_area">

<div class="prompt output_prompt">Out[1]:</div>




<div class="output_text output_subarea output_execute_result">
<pre>12</pre>
</div>

</div>

</div>
</div>

</div>
<div class="cell border-box-sizing text_cell rendered"><div class="prompt input_prompt">
</div>
<div class="inner_cell">
<div class="text_cell_render border-box-sizing rendered_html">
<p>Note that the extra space is added to make the code more readable. 
<code>2 * 3</code> works just as well as <code>2*3</code>. But is it highly recommended to use the additional spaces (in fact, it is considered good stytle to do so).
When you are programming, you want to store your values in variables</p>

</div>
</div>
</div>
<div class="cell border-box-sizing code_cell rendered">
<div class="input">
<div class="prompt input_prompt">In&nbsp;[2]:</div>
<div class="inner_cell">
    <div class="input_area">
<div class=" highlight hl-ipython3"><pre><span></span><span class="n">a</span> <span class="o">=</span> <span class="mi">6</span>
<span class="n">b</span> <span class="o">=</span> <span class="mi">2</span>
<span class="n">a</span> <span class="o">*</span> <span class="n">b</span>
</pre></div>

</div>
</div>
</div>

<div class="output_wrapper">
<div class="output">


<div class="output_area">

<div class="prompt output_prompt">Out[2]:</div>




<div class="output_text output_subarea output_execute_result">
<pre>12</pre>
</div>

</div>

</div>
</div>

</div>
<div class="cell border-box-sizing text_cell rendered"><div class="prompt input_prompt">
</div>
<div class="inner_cell">
<div class="text_cell_render border-box-sizing rendered_html">
<p>Both <code>a</code> and <code>b</code> are now variables. Each variable has a type. In this case, they are both integers (whole numbers). To write the value of a variable to the screen, use the <code>print</code> function (the last statement of a code cell is automatically printed to the screen if it is not stored in a variable, as was shown above)</p>

</div>
</div>
</div>
<div class="cell border-box-sizing code_cell rendered">
<div class="input">
<div class="prompt input_prompt">In&nbsp;[3]:</div>
<div class="inner_cell">
    <div class="input_area">
<div class=" highlight hl-ipython3"><pre><span></span><span class="nb">print</span><span class="p">(</span><span class="n">a</span><span class="p">)</span>
<span class="nb">print</span><span class="p">(</span><span class="n">b</span><span class="p">)</span>
<span class="nb">print</span><span class="p">(</span><span class="n">a</span> <span class="o">*</span> <span class="n">b</span><span class="p">)</span>
<span class="nb">print</span><span class="p">(</span><span class="n">a</span> <span class="o">/</span> <span class="n">b</span><span class="p">)</span>
</pre></div>

</div>
</div>
</div>

<div class="output_wrapper">
<div class="output">


<div class="output_area">

<div class="prompt"></div>


<div class="output_subarea output_stream output_stdout output_text">
<pre>6
2
12
3.0
</pre>
</div>
</div>

</div>
</div>

</div>
<div class="cell border-box-sizing text_cell rendered"><div class="prompt input_prompt">
</div>
<div class="inner_cell">
<div class="text_cell_render border-box-sizing rendered_html">
<p>You can add some text to the <code>print</code> function by putting the text between quotes (either single or double quotes work as long as you use the same at the beginning and end), and separate the text string and the variable by a comma</p>

</div>
</div>
</div>
<div class="cell border-box-sizing code_cell rendered">
<div class="input">
<div class="prompt input_prompt">In&nbsp;[4]:</div>
<div class="inner_cell">
    <div class="input_area">
<div class=" highlight hl-ipython3"><pre><span></span><span class="nb">print</span><span class="p">(</span><span class="s1">&#39;the value of a is&#39;</span><span class="p">,</span> <span class="n">a</span><span class="p">)</span>
</pre></div>

</div>
</div>
</div>

<div class="output_wrapper">
<div class="output">


<div class="output_area">

<div class="prompt"></div>


<div class="output_subarea output_stream output_stdout output_text">
<pre>the value of a is 6
</pre>
</div>
</div>

</div>
</div>

</div>
<div class="cell border-box-sizing text_cell rendered"><div class="prompt input_prompt">
</div>
<div class="inner_cell">
<div class="text_cell_render border-box-sizing rendered_html">
<p>A variable can be raised to a power by using <code>**</code> 
(a hat <code>^</code>, as used in some other languages, doesn't work).</p>

</div>
</div>
</div>
<div class="cell border-box-sizing code_cell rendered">
<div class="input">
<div class="prompt input_prompt">In&nbsp;[5]:</div>
<div class="inner_cell">
    <div class="input_area">
<div class=" highlight hl-ipython3"><pre><span></span><span class="n">a</span> <span class="o">**</span> <span class="n">b</span>
</pre></div>

</div>
</div>
</div>

<div class="output_wrapper">
<div class="output">


<div class="output_area">

<div class="prompt output_prompt">Out[5]:</div>




<div class="output_text output_subarea output_execute_result">
<pre>36</pre>
</div>

</div>

</div>
</div>

</div>
<div class="cell border-box-sizing text_cell rendered"><div class="prompt input_prompt">
</div>
<div class="inner_cell">
<div class="text_cell_render border-box-sizing rendered_html">
<h3 id="-Exercise-1,-First-Python-code"><a name="ex1" /> Exercise 1, First Python code<a class="anchor-link" href="#-Exercise-1,-First-Python-code">&#182;</a></h3><p>Compute the value of the polynomial $y=ax^2+bx+c$ at $x=-2$, $x=0$, and $x=2$ using $a=1$, $b=1$, $c=-6$.</p>

</div>
</div>
</div>
<div class="cell border-box-sizing text_cell rendered"><div class="prompt input_prompt">
</div>
<div class="inner_cell">
<div class="text_cell_render border-box-sizing rendered_html">
<p><a href="#ex1answer">Answer to Exercise 1</a></p>

</div>
</div>
</div>
<div class="cell border-box-sizing text_cell rendered"><div class="prompt input_prompt">
</div>
<div class="inner_cell">
<div class="text_cell_render border-box-sizing rendered_html">
<h3 id="Division">Division<a class="anchor-link" href="#Division">&#182;</a></h3><p>Division works as well</p>

</div>
</div>
</div>
<div class="cell border-box-sizing code_cell rendered">
<div class="input">
<div class="prompt input_prompt">In&nbsp;[6]:</div>
<div class="inner_cell">
    <div class="input_area">
<div class=" highlight hl-ipython3"><pre><span></span><span class="nb">print</span><span class="p">(</span><span class="s1">&#39;1/3 gives&#39;</span><span class="p">,</span> <span class="mi">1</span> <span class="o">/</span> <span class="mi">3</span><span class="p">)</span>
</pre></div>

</div>
</div>
</div>

<div class="output_wrapper">
<div class="output">


<div class="output_area">

<div class="prompt"></div>


<div class="output_subarea output_stream output_stdout output_text">
<pre>1/3 gives 0.3333333333333333
</pre>
</div>
</div>

</div>
</div>

</div>
<div class="cell border-box-sizing text_cell rendered"><div class="prompt input_prompt">
</div>
<div class="inner_cell">
<div class="text_cell_render border-box-sizing rendered_html">
<p>(Note for Python 2 users: <code>1/3</code> gives zero in Python 2, as the division of two integers returns an integer. Use <code>1.0/3</code> instead.</p>

</div>
</div>
</div>
<div class="cell border-box-sizing text_cell rendered"><div class="prompt input_prompt">
</div>
<div class="inner_cell">
<div class="text_cell_render border-box-sizing rendered_html">
<h3 id="More-on-variables">More on variables<a class="anchor-link" href="#More-on-variables">&#182;</a></h3><p>Once you have created a variable in a Python session, it will remain in memory, so you can use it in other cells as well. For example, the variable <code>a</code>, which was defined earlier in this Notebook, still exist. It will be <code>6</code> unless you changed it in Exercise 1.</p>

</div>
</div>
</div>
<div class="cell border-box-sizing code_cell rendered">
<div class="input">
<div class="prompt input_prompt">In&nbsp;[7]:</div>
<div class="inner_cell">
    <div class="input_area">
<div class=" highlight hl-ipython3"><pre><span></span><span class="nb">print</span><span class="p">(</span><span class="s1">&#39;a:&#39;</span><span class="p">,</span> <span class="n">a</span><span class="p">)</span>
</pre></div>

</div>
</div>
</div>

<div class="output_wrapper">
<div class="output">


<div class="output_area">

<div class="prompt"></div>


<div class="output_subarea output_stream output_stdout output_text">
<pre>a: 6
</pre>
</div>
</div>

</div>
</div>

</div>
<div class="cell border-box-sizing text_cell rendered"><div class="prompt input_prompt">
</div>
<div class="inner_cell">
<div class="text_cell_render border-box-sizing rendered_html">
<p>You as a user decides the order in which code blocks are executed. For example, <code>In [6]</code> means that it is the sixth execution of a code block. If you change the same code block and run it again, it will get number 7. If you define the variable <code>a</code> in code block 7, it will overwrite the value of <code>a</code> defined in a previous code block.</p>
<p>Variable names may be as long as you like (you gotta do the typing though). Selecting descriptive names aids in understanding the code. Variable names cannot have spaces, nor can they start with a number. And variable names are case sensitive. So the variable <code>avalue</code> is not the same as the variable <code>Avalue</code>. The name of a variable may be anything you want, except for reserved words in the Python language. For example, it is not possible to create a variable <code>for = 7</code>, as <code>for</code> is a reserved word. You will learn many of the reserved words when we continue; they are colored bold green when you type them in the Notebook.</p>

</div>
</div>
</div>
<div class="cell border-box-sizing text_cell rendered"><div class="prompt input_prompt">
</div>
<div class="inner_cell">
<div class="text_cell_render border-box-sizing rendered_html">
<h3 id="Basic-plotting-and-a-first-array">Basic plotting and a first array<a class="anchor-link" href="#Basic-plotting-and-a-first-array">&#182;</a></h3><p>Plotting is not part of standard Python. Luckily, a package exist to create beautiful graphics. A package is a library of functions for a specific set of tasks. There are many Python packages and we will use several of them. The graphics package we will use is called <code>matplotlib</code>. To be able to use the plotting functions in <code>matplotlib</code> we have to import it. We will learn several different ways of importing packages. For now, we import the plotting part of <code>matplotlib</code> and call it <code>plt</code>. We also give a second command which tells Python to show any graphs inside this Notebook and not in a separate window (more on these commands later).</p>

</div>
</div>
</div>
<div class="cell border-box-sizing code_cell rendered">
<div class="input">
<div class="prompt input_prompt">In&nbsp;[8]:</div>
<div class="inner_cell">
    <div class="input_area">
<div class=" highlight hl-ipython3"><pre><span></span><span class="kn">import</span> <span class="nn">matplotlib.pyplot</span> <span class="k">as</span> <span class="nn">plt</span>
<span class="o">%</span><span class="k">matplotlib</span> inline
</pre></div>

</div>
</div>
</div>

</div>
<div class="cell border-box-sizing text_cell rendered"><div class="prompt input_prompt">
</div>
<div class="inner_cell">
<div class="text_cell_render border-box-sizing rendered_html">
<p>Packages only have to be imported once in a Python session. After the import, any plotting function may be called from any code cell as <code>plt.function</code>. For example</p>

</div>
</div>
</div>
<div class="cell border-box-sizing code_cell rendered">
<div class="input">
<div class="prompt input_prompt">In&nbsp;[9]:</div>
<div class="inner_cell">
    <div class="input_area">
<div class=" highlight hl-ipython3"><pre><span></span><span class="n">plt</span><span class="o">.</span><span class="n">plot</span><span class="p">([</span><span class="mi">1</span><span class="p">,</span> <span class="mi">2</span><span class="p">,</span> <span class="mi">3</span><span class="p">,</span> <span class="mi">2</span><span class="p">])</span>
</pre></div>

</div>
</div>
</div>

<div class="output_wrapper">
<div class="output">


<div class="output_area">

<div class="prompt output_prompt">Out[9]:</div>




<div class="output_text output_subarea output_execute_result">
<pre>[&lt;matplotlib.lines.Line2D at 0x105ccaba8&gt;]</pre>
</div>

</div>

<div class="output_area">

<div class="prompt"></div>




<div class="output_png output_subarea ">
<img src="data:image/png;base64,iVBORw0KGgoAAAANSUhEUgAAAX4AAAD8CAYAAABw1c+bAAAABHNCSVQICAgIfAhkiAAAAAlwSFlz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"
>
</div>

</div>

</div>
</div>

</div>
<div class="cell border-box-sizing text_cell rendered"><div class="prompt input_prompt">
</div>
<div class="inner_cell">
<div class="text_cell_render border-box-sizing rendered_html">
<p>Let's try to plot $y$ vs $x$ for $x$ going from $-4$ to $4$ for the polynomial in the exercise above. To do that, we need to evaluate $y$ at a bunch of points. A sequence of values of the same type is called an array (for example an array of integers or floats). Array functionality is available in the package <code>numpy</code>. Let's import <code>numpy</code> and call it <code>np</code>, so that any function in the <code>numpy</code> package may be called as <code>np.function</code>.</p>

</div>
</div>
</div>
<div class="cell border-box-sizing code_cell rendered">
<div class="input">
<div class="prompt input_prompt">In&nbsp;[10]:</div>
<div class="inner_cell">
    <div class="input_area">
<div class=" highlight hl-ipython3"><pre><span></span><span class="kn">import</span> <span class="nn">numpy</span> <span class="k">as</span> <span class="nn">np</span>
</pre></div>

</div>
</div>
</div>

</div>
<div class="cell border-box-sizing text_cell rendered"><div class="prompt input_prompt">
</div>
<div class="inner_cell">
<div class="text_cell_render border-box-sizing rendered_html">
<p>To create an array <code>x</code> consisting of, for example, 5 equally spaced points between <code>-4</code> and <code>4</code>, use the <code>linspace</code> command</p>

</div>
</div>
</div>
<div class="cell border-box-sizing code_cell rendered">
<div class="input">
<div class="prompt input_prompt">In&nbsp;[11]:</div>
<div class="inner_cell">
    <div class="input_area">
<div class=" highlight hl-ipython3"><pre><span></span><span class="n">x</span> <span class="o">=</span> <span class="n">np</span><span class="o">.</span><span class="n">linspace</span><span class="p">(</span><span class="o">-</span><span class="mi">4</span><span class="p">,</span> <span class="mi">4</span><span class="p">,</span> <span class="mi">5</span><span class="p">)</span>
<span class="nb">print</span><span class="p">(</span><span class="n">x</span><span class="p">)</span>
</pre></div>

</div>
</div>
</div>

<div class="output_wrapper">
<div class="output">


<div class="output_area">

<div class="prompt"></div>


<div class="output_subarea output_stream output_stdout output_text">
<pre>[-4. -2.  0.  2.  4.]
</pre>
</div>
</div>

</div>
</div>

</div>
<div class="cell border-box-sizing text_cell rendered"><div class="prompt input_prompt">
</div>
<div class="inner_cell">
<div class="text_cell_render border-box-sizing rendered_html">
<p>In the above cell, <code>x</code> is an array of 5 floats (<code>-4.</code> is a float, <code>-4</code> is an integer).
If you type <code>np.linspace</code> and then an opening parenthesis like:</p>
<p><code>np.linspace(</code></p>
<p>and then hit [shift-tab] a little help box pops up to explain the input arguments of the function. When you click on the + sign, you can scroll through all the documentation of the <code>linspace</code> function. Click on the x sign to remove the help box. Let's plot $y$ using 100 $x$ values from 
$-4$ to $4$.</p>

</div>
</div>
</div>
<div class="cell border-box-sizing code_cell rendered">
<div class="input">
<div class="prompt input_prompt">In&nbsp;[12]:</div>
<div class="inner_cell">
    <div class="input_area">
<div class=" highlight hl-ipython3"><pre><span></span><span class="n">a</span> <span class="o">=</span> <span class="mi">1</span>
<span class="n">b</span> <span class="o">=</span> <span class="mi">1</span>
<span class="n">c</span> <span class="o">=</span> <span class="o">-</span><span class="mi">6</span>
<span class="n">x</span> <span class="o">=</span> <span class="n">np</span><span class="o">.</span><span class="n">linspace</span><span class="p">(</span><span class="o">-</span><span class="mi">4</span><span class="p">,</span> <span class="mi">4</span><span class="p">,</span> <span class="mi">100</span><span class="p">)</span>
<span class="n">y</span> <span class="o">=</span> <span class="n">a</span> <span class="o">*</span> <span class="n">x</span> <span class="o">**</span> <span class="mi">2</span> <span class="o">+</span> <span class="n">b</span> <span class="o">*</span> <span class="n">x</span> <span class="o">+</span> <span class="n">c</span>  <span class="c1"># Compute y for all x values</span>
<span class="n">plt</span><span class="o">.</span><span class="n">plot</span><span class="p">(</span><span class="n">x</span><span class="p">,</span> <span class="n">y</span><span class="p">)</span>
</pre></div>

</div>
</div>
</div>

<div class="output_wrapper">
<div class="output">


<div class="output_area">

<div class="prompt output_prompt">Out[12]:</div>




<div class="output_text output_subarea output_execute_result">
<pre>[&lt;matplotlib.lines.Line2D at 0x105e0c978&gt;]</pre>
</div>

</div>

<div class="output_area">

<div class="prompt"></div>




<div class="output_png output_subarea ">
<img src="data:image/png;base64,iVBORw0KGgoAAAANSUhEUgAAAYAAAAD8CAYAAAB+UHOxAAAABHNCSVQICAgIfAhkiAAAAAlwSFlz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"
>
</div>

</div>

</div>
</div>

</div>
<div class="cell border-box-sizing text_cell rendered"><div class="prompt input_prompt">
</div>
<div class="inner_cell">
<div class="text_cell_render border-box-sizing rendered_html">
<p>Note that  <em>one hundred</em> <code>y</code> values are computed in the simple line <code>y = a * x ** 2 + b * x + c</code>. The text after the <code>#</code> is a comment in the code. Any text on the line after the <code>#</code> is ignored by Python. Python treats arrays in the same fashion as it treats regular variables when you perform mathematical operations. The math is simply applied to every value in the array (and it runs much faster than when you would do every calculation separately).</p>
<p>You may wonder what the statement <code>[&lt;matplotlib.lines.Line2D at 0x30990b0&gt;]</code> is (the numbers on your machine may look different). This is actually a handle to the line that is created with the last command in the code block (in this case <code>plt.plot(x, y)</code>). You can tell the Notebook not to print this to the screen by putting a semicolon after the last command in the code block (so type <code>plot(x, y);</code>). We will learn later on that it may also be useful to store this handle in a variable.</p>

</div>
</div>
</div>
<div class="cell border-box-sizing text_cell rendered"><div class="prompt input_prompt">
</div>
<div class="inner_cell">
<div class="text_cell_render border-box-sizing rendered_html">
<p>The <code>plot</code> function can take many arguments. Looking at the help box of the <code>plot</code> function (by typing <code>plt.plot(</code> and then shift-tab) gives you a lot of help. Typing <code>plt.plot?</code> gives a new scrollable subwindow at the bottom of the notebook, showing the documentation on <code>plot</code>. Click the x in the upper right hand corner to close the subwindow again.</p>

</div>
</div>
</div>
<div class="cell border-box-sizing text_cell rendered"><div class="prompt input_prompt">
</div>
<div class="inner_cell">
<div class="text_cell_render border-box-sizing rendered_html">
<p>In short, <code>plot</code> can be used with one argument as <code>plot(y)</code>, which plots <code>y</code> values along the vertical axis and enumerates the horizontal axis starting at 0. <code>plot(x, y)</code> plots <code>y</code> vs <code>x</code>, and <code>plot(x, y, formatstring)</code> plots <code>y</code> vs <code>x</code> using colors and markers defined in <code>formatstring</code>, which can be a lot of things. It can be used to define the color, for example <code>'b'</code> for blue, <code>'r'</code> for red, and <code>'g'</code> for green. Or it can be used to define the linetype <code>'-'</code> for line, <code>'--'</code> for dashed, <code>':'</code> for dots. Or you can define markers, for example <code>'o'</code> for circles and <code>'s'</code> for squares. You can even combine them: <code>'r--'</code> gives a red dashed line, while <code>'go'</code> gives green circular markers.</p>

</div>
</div>
</div>
<div class="cell border-box-sizing text_cell rendered"><div class="prompt input_prompt">
</div>
<div class="inner_cell">
<div class="text_cell_render border-box-sizing rendered_html">
<p>If that isn't enough, <code>plot</code> takes a large number of keyword arguments. A keyword argument is an optional argument that may be added to a function. The syntax is <code>function(keyword1=value1, keyword2=value2)</code>, etc. For example, to plot a line with width 6 (the default is 1; also note the semi-colon at the end)</p>

</div>
</div>
</div>
<div class="cell border-box-sizing code_cell rendered">
<div class="input">
<div class="prompt input_prompt">In&nbsp;[13]:</div>
<div class="inner_cell">
    <div class="input_area">
<div class=" highlight hl-ipython3"><pre><span></span><span class="n">plt</span><span class="o">.</span><span class="n">plot</span><span class="p">([</span><span class="mi">1</span><span class="p">,</span> <span class="mi">2</span><span class="p">,</span> <span class="mi">3</span><span class="p">],</span> <span class="p">[</span><span class="mi">2</span><span class="p">,</span> <span class="mi">4</span><span class="p">,</span> <span class="mi">3</span><span class="p">],</span> <span class="n">linewidth</span><span class="o">=</span><span class="mi">6</span><span class="p">);</span>
</pre></div>

</div>
</div>
</div>

<div class="output_wrapper">
<div class="output">


<div class="output_area">

<div class="prompt"></div>




<div class="output_png output_subarea ">
<img src="data:image/png;base64,iVBORw0KGgoAAAANSUhEUgAAAX4AAAD8CAYAAABw1c+bAAAABHNCSVQICAgIfAhkiAAAAAlwSFlz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"
>
</div>

</div>

</div>
</div>

</div>
<div class="cell border-box-sizing text_cell rendered"><div class="prompt input_prompt">
</div>
<div class="inner_cell">
<div class="text_cell_render border-box-sizing rendered_html">
<p>Keyword arguments should come after regular arguments. <code>plot(linewidth=6, [1, 2, 3], [2, 4, 3])</code> gives an error.</p>

</div>
</div>
</div>
<div class="cell border-box-sizing text_cell rendered"><div class="prompt input_prompt">
</div>
<div class="inner_cell">
<div class="text_cell_render border-box-sizing rendered_html">
<p>Names may be added along the axes with the <code>xlabel</code> and <code>ylabel</code> functions, e.g., <code>plt.xlabel('this is the x-axis')</code>. Note that both functions take a string as argument. A title can be added to the figure with the <code>plt.title</code> command. Multiple curves can be added to the same figure by giving multiple plotting commands. They are automatically added to the same figure.</p>

</div>
</div>
</div>
<div class="cell border-box-sizing text_cell rendered"><div class="prompt input_prompt">
</div>
<div class="inner_cell">
<div class="text_cell_render border-box-sizing rendered_html">
<h3 id="-Exercise-2,-First-graph"><a name="ex2" /> Exercise 2, First graph<a class="anchor-link" href="#-Exercise-2,-First-graph">&#182;</a></h3><p>Plot $y=(x+2)(x-1)(x-2)$ for $x$ going from $-3$ to $3$ using a dashed red line. On the same figure, plot a blue circle for every point where $y$ equals zero. Set the size of the markers to 10 (you may need to read the help of <code>plt.plot</code> to find out how to do that). Label the axes as 'x-axis' and 'y-axis'. Add the title 'First nice Python figure of Your Name', where you enter your own name.</p>

</div>
</div>
</div>
<div class="cell border-box-sizing text_cell rendered"><div class="prompt input_prompt">
</div>
<div class="inner_cell">
<div class="text_cell_render border-box-sizing rendered_html">
<p><a href="#ex2answer">Answer to Exercise 2</a></p>

</div>
</div>
</div>
<div class="cell border-box-sizing text_cell rendered"><div class="prompt input_prompt">
</div>
<div class="inner_cell">
<div class="text_cell_render border-box-sizing rendered_html">
<h3 id="Loading-data-files">Loading data files<a class="anchor-link" href="#Loading-data-files">&#182;</a></h3><p>Numerical data can be loaded from a data file using the <code>loadtxt</code> function of <code>numpy</code>; i.e., the command is <code>np.loadtxt</code>. You need to make sure the file is in the same directory as your notebook, or provide the full path. The filename (or path plus filename) needs to be between quotes.</p>

</div>
</div>
</div>
<div class="cell border-box-sizing text_cell rendered"><div class="prompt input_prompt">
</div>
<div class="inner_cell">
<div class="text_cell_render border-box-sizing rendered_html">
<h3 id="-Exercise-3,-Loading-data-and-adding-a-legend"><a name="ex3" /> Exercise 3, Loading data and adding a legend<a class="anchor-link" href="#-Exercise-3,-Loading-data-and-adding-a-legend">&#182;</a></h3><p>You are provided with the data files containing the mean montly temperature of Holland, New York City, and Beijing. The Dutch data is stored in <code>holland_temperature.dat</code>, and the other filenames are similar. Plot the temperature for each location against the number of the month (starting with 1 for January) all in a single graph. Add a legend by using the function <code>plt.legend(['line1','line2'])</code>, etc., but then with more descriptive names. Find out about the <code>legend</code> command using <code>plt.legend?</code>. Place the legend in an appropriate spot (the upper left-hand corner may be nice, or let Python figure out the best place).</p>

</div>
</div>
</div>
<div class="cell border-box-sizing text_cell rendered"><div class="prompt input_prompt">
</div>
<div class="inner_cell">
<div class="text_cell_render border-box-sizing rendered_html">
<p><a href="#ex3answer">Answer to Exercise 3</a></p>

</div>
</div>
</div>
<div class="cell border-box-sizing text_cell rendered"><div class="prompt input_prompt">
</div>
<div class="inner_cell">
<div class="text_cell_render border-box-sizing rendered_html">
<h3 id="-Exercise-4,-Subplots-and-fancy-tick-markers"><a name="ex4" /> Exercise 4, Subplots and fancy tick markers<a class="anchor-link" href="#-Exercise-4,-Subplots-and-fancy-tick-markers">&#182;</a></h3><p>Load the average monthly air temperature and seawater temperature for Holland. Create one plot with two graphs above each other using the subplot command (use <code>plt.subplot?</code>). On the top graph, plot the air and sea temperature. Label the ticks on the horizontal axis as 'jan', 'feb', 'mar', etc., rather than 0,1,2,etc. Use <code>plt.xticks?</code> to find out how. In the bottom graph, plot the difference between the air and seawater temperature. Add legends, axes labels, the whole shebang.</p>

</div>
</div>
</div>
<div class="cell border-box-sizing text_cell rendered"><div class="prompt input_prompt">
</div>
<div class="inner_cell">
<div class="text_cell_render border-box-sizing rendered_html">
<p><a href="#ex4answer">Answer to Exercise 4</a></p>

</div>
</div>
</div>
<div class="cell border-box-sizing text_cell rendered"><div class="prompt input_prompt">
</div>
<div class="inner_cell">
<div class="text_cell_render border-box-sizing rendered_html">
<h3 id="Colors">Colors<a class="anchor-link" href="#Colors">&#182;</a></h3><p>There are four different ways to specify colors in matplotlib plotting; you may read about it <a href="http://matplotlib.org/examples/pylab_examples/color_demo.html">here</a>. A usefule way is to use the html color names.  The html codes and may be found, for example, <a href="http://en.wikipedia.org/wiki/Web_colors">here</a>. But the coolest way is probably to use the xkcd names, which need to be prefaced by the <code>xkcd:</code>. The xkcd list of color names is given by <a href="https://xkcd.com/color/rgb/">xkcd</a> and includes favorites such as 'baby puke green' and a number of brown colors vary from <code>poo</code> to <code>poop brown</code> and <code>baby poop brown</code>. Try it out:</p>

</div>
</div>
</div>
<div class="cell border-box-sizing code_cell rendered">
<div class="input">
<div class="prompt input_prompt">In&nbsp;[14]:</div>
<div class="inner_cell">
    <div class="input_area">
<div class=" highlight hl-ipython3"><pre><span></span><span class="n">plt</span><span class="o">.</span><span class="n">plot</span><span class="p">([</span><span class="mi">1</span><span class="p">,</span> <span class="mi">2</span><span class="p">,</span> <span class="mi">3</span><span class="p">],</span> <span class="p">[</span><span class="mi">4</span><span class="p">,</span> <span class="mi">5</span><span class="p">,</span> <span class="mi">2</span><span class="p">],</span> <span class="s1">&#39;xkcd:baby puke green&#39;</span><span class="p">)</span>
</pre></div>

</div>
</div>
</div>

<div class="output_wrapper">
<div class="output">


<div class="output_area">

<div class="prompt output_prompt">Out[14]:</div>




<div class="output_text output_subarea output_execute_result">
<pre>[&lt;matplotlib.lines.Line2D at 0x106011d68&gt;]</pre>
</div>

</div>

<div class="output_area">

<div class="prompt"></div>




<div class="output_png output_subarea ">
<img src="data:image/png;base64,iVBORw0KGgoAAAANSUhEUgAAAXcAAAD8CAYAAACMwORRAAAABHNCSVQICAgIfAhkiAAAAAlwSFlz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"
>
</div>

</div>

</div>
</div>

</div>
<div class="cell border-box-sizing text_cell rendered"><div class="prompt input_prompt">
</div>
<div class="inner_cell">
<div class="text_cell_render border-box-sizing rendered_html">
<h3 id="Gallery-of-graphs">Gallery of graphs<a class="anchor-link" href="#Gallery-of-graphs">&#182;</a></h3><p>The plotting package <code>matplotlib</code> allows you to make very fancy graphs. Check out the <A href="http://matplotlib.org/gallery.html"  target=_blank>matplotlib gallery</A> to get an overview of many of the options. The following exercises use several of the matplotlib options.</p>

</div>
</div>
</div>
<div class="cell border-box-sizing text_cell rendered"><div class="prompt input_prompt">
</div>
<div class="inner_cell">
<div class="text_cell_render border-box-sizing rendered_html">
<h3 id="-Exercise-5,-Pie-Chart"><a name="ex5" /> Exercise 5, Pie Chart<a class="anchor-link" href="#-Exercise-5,-Pie-Chart">&#182;</a></h3><p>At the 2012 London Olympics, the top ten countries (plus the rest) receiving gold medals were <code>['USA', 'CHN', 'GBR', 'RUS', 'KOR', 'GER', 'FRA', 'ITA', 'HUN', 'AUS', 'OTHER']</code>. They received  <code>[46, 38, 29, 24, 13, 11, 11, 8, 8, 7, 107]</code> gold medals, respectively. Make a pie chart (type <code>plt.pie?</code> or go to the pie charts in the matplotlib gallery) of the top 10 gold medal winners plus the others at the London Olympics. Try some of the keyword arguments to make the plot look nice. You may want to give the command <code>plt.axis('equal')</code> to make the scales along the horizontal and vertical axes equal so that the pie actually looks like a circle rather than an ellipse. Use the <code>colors</code> keyword in your pie chart to specify a sequence of colors. The sequence must be between square brackets, each color must be between quotes preserving upper and lower cases, and they must be separated by comma's like <code>['MediumBlue','SpringGreen','BlueViolet']</code>; the sequence is repeated if it is not long enough.</p>

</div>
</div>
</div>
<div class="cell border-box-sizing text_cell rendered"><div class="prompt input_prompt">
</div>
<div class="inner_cell">
<div class="text_cell_render border-box-sizing rendered_html">
<p><a href="#ex5answer">Answer to Exercise 5</a></p>

</div>
</div>
</div>
<div class="cell border-box-sizing text_cell rendered"><div class="prompt input_prompt">
</div>
<div class="inner_cell">
<div class="text_cell_render border-box-sizing rendered_html">
<h3 id="-Exercise-6,-Fill-between"><a name="ex6" /> Exercise 6, Fill between<a class="anchor-link" href="#-Exercise-6,-Fill-between">&#182;</a></h3><p>Load the air and sea temperature, as used in Exercise 4, but this time make one plot of temperature vs the number of the month and use the <code>plt.fill_between</code> command to fill the space between the curve and the $x$-axis. Specify the <code>alpha</code> keyword, which defines the transparancy. Some experimentation will give you a good value for alpha (stay between 0 and 1). Note that you need to specify the color using the <code>color</code> keyword argument.</p>

</div>
</div>
</div>
<div class="cell border-box-sizing text_cell rendered"><div class="prompt input_prompt">
</div>
<div class="inner_cell">
<div class="text_cell_render border-box-sizing rendered_html">
<p><a href="#ex6answer">Answer to Exercise 6</a></p>

</div>
</div>
</div>
<div class="cell border-box-sizing text_cell rendered"><div class="prompt input_prompt">
</div>
<div class="inner_cell">
<div class="text_cell_render border-box-sizing rendered_html">
<h3 id="Answers-for-the-exercises">Answers for the exercises<a class="anchor-link" href="#Answers-for-the-exercises">&#182;</a></h3>
</div>
</div>
</div>
<div class="cell border-box-sizing text_cell rendered"><div class="prompt input_prompt">
</div>
<div class="inner_cell">
<div class="text_cell_render border-box-sizing rendered_html">
<p><a name="ex1answer">Answer to Exercise 1</a></p>

</div>
</div>
</div>
<div class="cell border-box-sizing code_cell rendered">
<div class="input">
<div class="prompt input_prompt">In&nbsp;[15]:</div>
<div class="inner_cell">
    <div class="input_area">
<div class=" highlight hl-ipython3"><pre><span></span><span class="n">a</span> <span class="o">=</span> <span class="mi">1</span>
<span class="n">b</span> <span class="o">=</span> <span class="mi">1</span>
<span class="n">c</span> <span class="o">=</span> <span class="o">-</span><span class="mi">6</span>
<span class="n">x</span> <span class="o">=</span> <span class="o">-</span><span class="mi">2</span>
<span class="n">y</span> <span class="o">=</span> <span class="n">a</span> <span class="o">*</span> <span class="n">x</span> <span class="o">**</span> <span class="mi">2</span> <span class="o">+</span> <span class="n">b</span> <span class="o">*</span> <span class="n">x</span> <span class="o">+</span> <span class="n">c</span>
<span class="nb">print</span><span class="p">(</span><span class="s1">&#39;y evaluated at x=-2 is&#39;</span><span class="p">,</span> <span class="n">y</span><span class="p">)</span>
<span class="n">x</span> <span class="o">=</span> <span class="mi">0</span> 
<span class="n">y</span> <span class="o">=</span> <span class="n">a</span> <span class="o">*</span> <span class="n">x</span> <span class="o">**</span> <span class="mi">2</span> <span class="o">+</span> <span class="n">b</span> <span class="o">*</span> <span class="n">x</span> <span class="o">+</span> <span class="n">c</span>
<span class="nb">print</span><span class="p">(</span><span class="s1">&#39;y evaluated at x=0 is&#39;</span><span class="p">,</span> <span class="n">y</span><span class="p">)</span>
<span class="n">x</span> <span class="o">=</span> <span class="mi">2</span>
<span class="n">y</span> <span class="o">=</span> <span class="n">a</span> <span class="o">*</span> <span class="n">x</span> <span class="o">**</span> <span class="mi">2</span> <span class="o">+</span> <span class="n">b</span> <span class="o">*</span> <span class="n">x</span> <span class="o">+</span> <span class="n">c</span>
<span class="nb">print</span><span class="p">(</span><span class="s1">&#39;y evaluated at x=2 is&#39;</span><span class="p">,</span> <span class="n">y</span><span class="p">)</span>
</pre></div>

</div>
</div>
</div>

<div class="output_wrapper">
<div class="output">


<div class="output_area">

<div class="prompt"></div>


<div class="output_subarea output_stream output_stdout output_text">
<pre>y evaluated at x=-2 is -4
y evaluated at x=0 is -6
y evaluated at x=2 is 0
</pre>
</div>
</div>

</div>
</div>

</div>
<div class="cell border-box-sizing text_cell rendered"><div class="prompt input_prompt">
</div>
<div class="inner_cell">
<div class="text_cell_render border-box-sizing rendered_html">
<p><a href="#ex1">Back to Exercise 1</a></p>
<p><a name="ex2answer">Answer to Exercise 2</a></p>

</div>
</div>
</div>
<div class="cell border-box-sizing code_cell rendered">
<div class="input">
<div class="prompt input_prompt">In&nbsp;[16]:</div>
<div class="inner_cell">
    <div class="input_area">
<div class=" highlight hl-ipython3"><pre><span></span><span class="n">x</span> <span class="o">=</span> <span class="n">np</span><span class="o">.</span><span class="n">linspace</span><span class="p">(</span><span class="o">-</span><span class="mi">3</span><span class="p">,</span> <span class="mi">3</span><span class="p">,</span> <span class="mi">100</span><span class="p">)</span>
<span class="n">y</span> <span class="o">=</span> <span class="p">(</span><span class="n">x</span> <span class="o">+</span> <span class="mi">2</span><span class="p">)</span> <span class="o">*</span> <span class="p">(</span><span class="n">x</span> <span class="o">-</span> <span class="mi">1</span><span class="p">)</span> <span class="o">*</span> <span class="p">(</span><span class="n">x</span> <span class="o">-</span> <span class="mi">2</span><span class="p">)</span>
<span class="n">plt</span><span class="o">.</span><span class="n">plot</span><span class="p">(</span><span class="n">x</span><span class="p">,</span> <span class="n">y</span><span class="p">,</span> <span class="s1">&#39;r--&#39;</span><span class="p">)</span>
<span class="n">plt</span><span class="o">.</span><span class="n">plot</span><span class="p">([</span><span class="o">-</span><span class="mi">2</span><span class="p">,</span> <span class="mi">1</span><span class="p">,</span> <span class="mi">2</span><span class="p">],</span> <span class="p">[</span><span class="mi">0</span><span class="p">,</span> <span class="mi">0</span><span class="p">,</span> <span class="mi">0</span><span class="p">],</span> <span class="s1">&#39;bo&#39;</span><span class="p">,</span> <span class="n">markersize</span><span class="o">=</span><span class="mi">10</span><span class="p">)</span>
<span class="n">plt</span><span class="o">.</span><span class="n">xlabel</span><span class="p">(</span><span class="s1">&#39;x-axis&#39;</span><span class="p">)</span>
<span class="n">plt</span><span class="o">.</span><span class="n">ylabel</span><span class="p">(</span><span class="s1">&#39;y-axis&#39;</span><span class="p">)</span>
<span class="n">plt</span><span class="o">.</span><span class="n">title</span><span class="p">(</span><span class="s1">&#39;First Python Figure of Mark Bakker&#39;</span><span class="p">);</span>
</pre></div>

</div>
</div>
</div>

<div class="output_wrapper">
<div class="output">


<div class="output_area">

<div class="prompt"></div>




<div class="output_png output_subarea ">
<img src="data:image/png;base64,iVBORw0KGgoAAAANSUhEUgAAAYoAAAEWCAYAAAB42tAoAAAABHNCSVQICAgIfAhkiAAAAAlwSFlz
AAALEgAACxIB0t1+/AAAIABJREFUeJzt3XecVOXZ//HPF6SogFjQ2LFgwRpdNab42MWILTYs0UTz
Mz5RE1tsmCcmJrbnsUaNYjSKGhXFDhbsvSwGFUUUooggggoKoki5fn/cZ2VdltnZMntmdr/v12te
O3POmTnXmZ2Z69zl3LciAjMzs8XpkHcAZmZW3pwozMysICcKMzMryInCzMwKcqIwM7OCnCjMzKwg
J4o2TtIakmZJ6ph3LA2R9KSkX+Ucw9WS/pBnDMVQ8k9J0yW93Mr7vkHSX1ppXyFp3caus5blRNFG
SHpf0ldZUqi5rRIRH0REt4iY34TX/IWkZxvY5klJX2f7+0TSXZJWLuK1z5Z0c2NjagnZcc2v815d
ARARx0TEOXnE1Ug/BnYBVouIreuuzI4xJF1SZ/ne2fIbWiPIOp+PzyU9LWmT1ti3tRwnirZlzywp
1NwmF9o4Oyttic/AcRHRDVgP6Alc0sD25eCFOu/VcaXcmaQlWvgl1wTej4gvC2wzHjiwzr6PAN5p
6k6bWDKt+XwsBzwJ3NTU/ZdCJZS28+ZE0cZJ6p2dQS6RPX5S0l8lPQfMBtbOzj7/I2mmpPckHSpp
Q+BqYNvsbHBGQ/uKiM+AocDGkraS9HHtL6Gkn0l6TVI/4EzgoOy1X6v1MmtKei6L5RFJK9R6/l6S
3pQ0IzuODWute1/SKZJez85cb5fUtQnv13eqVSSdKukjSZMl/ap2dUfdqrK6JbBs22MlvQu8my3b
QNIISZ9JGivpwAKxrCLpvmzbcZL+X7b8KOAfLPzf/GkxLzEFeAPYLXvecsAPgfvq7OcOSVNqnfFv
VOf9+Luk4ZK+BHao89zukp6QdLkkFXhryUq1twF9az1/a0kvZP/TjyRdIanzYt6PH0uaKGn7htYV
ep8bOiZblBNF+/Rz4GigOzANuBzYPSK6k35IRkXEGOAYFp5592zoRbMf9f2Af0fEK8CnwK519js4
Ih4CzgVuz157s1rbHAL8ElgR6Ayckr32esCtwAlAL2A4cH+dH5UDgX7AWsCmwC+KfkfqP55+wEnA
zsC6wPZNeJl9gG2AvpKWBkYA/yId3wDgKkl9F/Pc24APgVWA/YFzJe0YEdfx3f/NHwvsfzBweHZ/
AHAvMKfONg8CfbKYXgVuqbP+EOCvpM9L7US4PPAY8FxE/DYaGA8o+18dCrxYa/F84ERgBWBbYCfg
N/U8tx/p/79fRDxZaF2R73O9x2T1c6JoW+7JzsxmSLqnwHY3RMSbETEPmAcsIJUCloyIjyLizUbu
9/KsxPEa8BHpxxXgRuAw+PZsdjfSl7eQf0bEOxHxFTAE2DxbfhAwLCJGRMRc4P+AJUmJ7ds4ImJy
VrK5v9Zz6/ODWu/VDEk/qGebA7N43oyI2cDZDcRen/Mi4rPsePqTqov+GRHzIuLfpBLYAXWfJGl1
4EfAaRHxdUSMIpUiDq+7bQPuBraXtEz23MF1N4iI6yNiZkTMIR3jZtn2Ne6NiOciYkFEfJ0tWwV4
CrgjIs5qIIaaz8dM4Djg2xJQRIyMiBez9+N94Brgv+o8/4Bs+e4RUbfhvr51xbzP9R2TLYYTRduy
T0T0zG77FNhuYs2drI77INIZ6keShknaoJH7/W22z1Uj4tCImJYtvxnYMzvDOxB4JiI+auC1ptS6
Pxvolt1fBZhQK+4F2XGsWsRz6/NirfeqZ0S8WM82q1Drvapzv1i1n7MmsE3tBEU6w/7eYvb9WUTM
rLVsAt893gZlCWoYcBawfEQ8V3u9pI6Szpc0XtIXwPvZqhVqbVbfce9BStRXFxHGb7MS6ZKkH/E7
JW2a7X89SQ9kVV9fkEqaK9R5/gnAkIgYXc9r17eumPe5Kf/LdsuJon36ThVBRDwcEbsAKwNvA9fW
t12jdxIxCXgB+Bmp2ql2I2ZjX3sy6QcASA3xwOrApObE2ICPgNVqPV69zvovgaVqPa7vB7/2cU4E
nqqToLpFxH/X87zJwHKSutdatgZNO97BwMmkxF3XIcDepOq1ZYDe2fLa7Q31/a+uBR4ChmcnAg3K
zt6fAcaxsEry76TPXJ+I6EFqu6rb1nEAsI+k39XzsvWtK+Z99rDZjeBE0c5JWkmpy+TSpLrrWaSq
KICPgdUW17hYpMHAqcAmwF21ln8M9Fbxva6GAHtI2klSJ9IP3xzg+WbEVsw+fylpQ0lLAXWvrxgF
/EzSUlkD91ENvN4DwHqSfi6pU3bbSrUa5WtExETSsZ0nqWt2Bn4U9f/YN+QpUlfav9WzrjvpffyU
lPTObcTrHgeMJbUVLVnMEyRtS2rMrqne7A58AczKSrKLS5o7Ab+TVHd9feuKfp+tOE4U1oHUpjAZ
+IxUP1zzhXuc9IWeIumTJr7+3aSSwN1ZPX+NO7K/n0p6taEXiYixpPaOvwGfAHuSugN/08S4GhQR
D5Ia+p8gnQXXVE/VNAZfAnxDSno3smgjcN3Xm0k6kx5Aer+nABcAXRbzlINJZ/iTSe/jHyPi0SYc
R0TEY1nbTV2DSVVak4C3+G5Dc4OvS+oU8SFwrxbfy+yKrHfWLFKp8qzsvYXUWeEQUvvFtcDti9nX
B6SEcLrqXJRZd10T3mdrgBroqGDWbJLGA79uyo9cOcnOSEcDXbKOAGbtgksUVlKS9iPVBz+edyxN
IWlfSV0kLUs6K73fScLaGycKKxlJT5IaK4/NeilVol8DU0lXOc+n/jp0szbNVU9mZlaQSxRmZlZQ
Sw9UlosVVlghevfunXcYZmYVZeTIkZ9ERK+GtmsTiaJ3795UV1fnHYaZWUWRNKHhrVz1ZGZmDXCi
MDOzgpwozMysICcKMzMryInCzMwKyjVRSLpe0lRJo2stWy6bwvDd7O+yecZoZtbe5V2iuIE0dWVt
pwOPRUQf0jSLp7d2UGZmtlCuiSIiniYNbV3b3qQhm8n+Fpqpzcys/VrQOkOo5V2iqM9KtabLnAKs
VN9Gko6WVC2petq0afVtYmbWdk2bBmuvDQ88UPJdlWOi+FY2MUq9oxZGxKCIqIqIql69GrwC3cys
bfnb3+CDD2DddUu+q3JMFB9LWhkg+zs153jMzMrPD38IAwfCBhuUfFflmCjuA47I7h8B3JtjLGZm
5alfPzjnnFbZVd7dY28FXgDWl/ShpKOA84FdJL0L7Jw9NjMzgG++gXPPhamtV9mS6+ixEXHwYlbt
1KqBmJlVin/9K1U5bbFFKlW0gnKsejIzs/osWAAXXgibbQa77dZqu20T81GYmbULQ4fCmDFw660g
tdpuXaIwM6sECxbAn/+cejkdcECr7tolCjOzSvDFF9CnT0oSHTu26q6dKMzMKkHPnnDXXbns2lVP
Zmblrroa3nknt927RGFmVs4i4Ne/hi+/TA3ZrdiIXcOJwsysnN11F7z6KtxwQy5JAlz1ZGZWvubP
h7POgg03hMMOyy0MlyjMzMrVTTfB22+n6ydauadTbS5RmJmVq48/hh/9CPbdN9cwnCjMzMrVaafB
U0/l1jZRw4nCzKzczJwJTzyR7udY5VTDicLMrNxceCHsuCO89VbekQBOFGZm5WXiRLjoIhgwAPr2
zTsawInCzKy8DByYBgA877y8I/mWE4WZWbmork5dYk84AXr3zjuabzlRmJmVi0mT0sV1Z5yRdyTf
4URhZlYu9t4bRo+GZZbJO5Lv8JXZVn6mTYP334ePPoLJk2H6dDjxROjaFYYPh8ceg06d0uPlloPl
l09j9HfunAZQy7nPuVmjffklDBkChx9eFt1h63KisPxEwIQJ8PzzsNde0K1b6hZ42mmLbnvkkSkx
VFfDNdfA3LnwzTcL19fM+HXiiXDHHbDRRrDxxrDJJrDNNqk47wRi5eovf4Hzz4dNN4Utt8w7mkUo
IvKOodmqqqqiuro67zCsGF9/DY8/Dg88AMOGwQcfpOUjRsDOO8PIkfDMM7D22rDKKrDyyqnE0KXL
oj/08+bBjBnw2Wew3npp2ZAhqdQxenTqg/7VV7DiijBlSnr+8OHp9bbcEpbweZKVgbFj0wnNIYek
EWJbkaSREVHV4HZOFFZyCxakonX37vDKK7D11rD00rDrrumioh/9KH1RWvqHe/58ePfd1EC4005p
2brrwvjxqQ54111hzz3hpz9NycOstUXAbrvByy+nhLHSSq26+2IThU+prHRmzIB//AOuuAJ23x3+
/vd0Jv/II7DddqmUUEodO6aJ6DfYYOGy55+HJ59MMQwblqqpfvEL+Oc/05d2+vTU7mHWGoYMSaXp
yy9v9STRGGWbKCS9D8wE5gPzisl6ViYmT4YLLoDrrkslie23T2dNAB06wC675BfbiivCgQem24IF
qaprqaXSujfeSImsXz844ohU2ih1MrP27Xvfg4MOgt/8Ju9ICirbqqcsUVRFxCcNbeuqpzJz9NHp
DP2QQ9KFQ9//ft4RFWfixFT6ufnmlOyWXRZ+/vM0cUyvXnlHZ9biiq168nUU1nxz56axaUaNSo/P
PjvVt954Y+UkCYDVV08loQ8+gIceSm0YN9+celsBvPdeOlaz5nr0UTj11NTZogKUc6II4FFJIyUd
XXelpKMlVUuqnjZtWg7hGZDq+zffHE45JdW3QuqttPbauYbVLB07pqqy226DDz9MjfAR6WKotdZK
Y/B8+mneUVql+vLLVOq+996K6bJdzonixxGxObA7cKyk7WqvjIhBEVEVEVW9XC3Q+mbOTB/2HXaA
2bPhvvvg3HPzjqrlLbnkwvvnnpuuxzjzzFT6OP74dGGgWWOcdloqnV577cLSapkr20QREZOyv1OB
u4Gt843IvuOKK1Jj9amnpusV9twz74hKS4L+/VMPldGj0xDQ11yTrvmAVOIwa8gjj8CVV6a2u+22
a3j7MlGWjdmSlgY6RMTM7P4I4M8R8VB927sxu5XMn58afHv3hjlz4LXX0jUR7dWkSakXVadOqY3m
mWfSENFbbZV3ZFaO5s+H9ddPQ82MHPnd0mpOKr0xeyXgWUmvAS8DwxaXJKyVTJ2a6u232y5VO3Xp
0r6TBMCqq6YkAenL//TT6T3p3z8NNWJWW8eOqYr2ttvKIkk0Rlkmioj4T0Rslt02ioi/5h1Tu/by
y7DFFvDcc6lHU/fueUdUfo4/Po1bde658MILqVQxcGDeUVm5mDAh/e3bN43nVGHKMlFYGbnzTviv
/0pnzC+8kAbns/p1757mEXjvvTTIW79+afnUqfD22/nGZvl59900QOUFF+QdSZM5UdjiRcCgQela
iJdeSt1grWE9eqTSxE9+kh6ff34azfZXv0ptPNZ+fP11GgWgc+d0AWqFKtshPCxHCxakLq/duqWx
kLp0qZhufGXpjDNS0r3qqnQB3/HHpy62yy6bd2RWar//fboQ9b77UpfqCuUShX3XvHmpemmXXVLP
pmWWcZJorl694JJL0tXqBx2UekiddFLeUVmp3XFH6kZ+0kkV333cicIW+uabdH3AjTemobc7d847
orald+/03o4alToFQLoG5ZZbUinO2pYll0w9Bc87L+9Ims2JwpK5c9MscUOHprPfP/yhYoYXqDib
bgprrpnuDxoEhx2Wekk98US+cVnLqLk2rX9/ePDBNnHC5URhycknp3rUmqtGrXVcfDHcdFOaJ3zH
HdN4UmPH5h2VNdW8ebDHHqk9CtrMyZYThSUnnJCGpCjzcfHbnA4dUoli7Nh0DcYTT8D11+cdlTXV
KaekUkQba9cryyE8GstDeDRRBNx/fyoid/A5Q1mYOjX9yPToAY89ltozjjvOEyhVgksvhRNPTCdd
l1ySdzRFqfQhPKw1XHxxquq49da8I7EaK66YkgSkqsBTTknXYAwd6oEHy9nQoal30377pV5tbYwT
RXs1ZEj6ETrgADj44LyjsfpcdlmaQKlrV9h//zTO1siReUdl9ZkwAX74w9Te1AZL523viKxhzz6b
pvj80Y9g8OA2+cFuM3bbLVU/XXMNvPMOvPJK3hFZbTUzHp50UmpfqrDB/orlX4j25uuv00VfvXun
GbbaWKNbm7TEEmmSqHffTcOAQGrwPvNM+OKLfGNrz0aPTsOGP/98elwzknAb5ETR3nTtmoY5vv9+
WH75vKOxxujRIyUNgNdfTxdy9ekDV1+dumVa63nnHdh55zR6wUor5R1NyTlRtBcRaWA/SIPVrbde
vvFY81x6aRr+fYMN4L//GzbZJM1fbqX35puw/fbpavpHH4V11sk7opJzomgvLroIfvCDNLmOtQ1b
bZWSwz33pBOBOXPScg8HUjrjxqVh9yG1SWy4Yb7xtBInivbguefg9NNT172aoa+tbZBSF+fRo2HX
XdOyM85IvaR8hXfL6907DRf+zDOp23I74UTR1n36aer+uuaacN11bWZIAatjiSUW/m+XXRYefjj9
kB19dJrb25rnrrvS+7jEEnD55e2iuqk2J4q2LAJ++UuYMiVdN7HMMnlHZK3h9NNh/Hg49li44Yb0
ozZ4cN5RVaaI1Glgv/3gnHPyjiY3ThRt3Z57pgu3ttwy70isNa24Yvq/jx2bSpRbbJGWT5oEn32W
b2yV4quv0twsZ56ZqpsuuyzviHLjsZ7aqghXM9miBgxIg9b97ndpXCLPsle/iRNhr73SxY5//GO6
tcHvk8d6as/mzEnDPdx+e96RWLkZODDNXnjOOand6swz0xDn9l09e8JSS8GwYWmSqTaYJBrDiaLC
jR+fRgbv0SONxNGjB/zmB68y/tnJac5rs9o22QTuvBNeew123x3OPx8uvHCxm9f7+fpNWl5pGjyW
zz9PPcZmz4bu3dNQNz/9aa4xl42IqPjblltuGe3R8OERSy0V0alTRKprSrdOzImllvg6hg/PO0Ir
e2PGREyZku4/8kjEoYdGjBoVEQU+X53S8kr6fDV4LOf+O2KNNSI6dIi4//68w201QHUU8RtbtiUK
Sf0kjZU0TtLpecdTbsaPT13lZ89eOC5Zjbl0Zva8Luy/f2We+Vkr2mCDhUNQvPdeunhv880Z/4ND
2X/fefV/vuamz12lfL4KfldqjuXMPozv0Cddc9S/fz6BlrGyTBSSOgJXArsDfYGDJfXNN6ryctFF
i37o65o7t2LmT7FycPTRqRH3ggu4aPRuzJ1T+ArvSvl8FfVd6dCFS3Z9MI1eYIsoy15PkrYFzo6I
3bLHZwBExHn1bd8eez316AEzZxa33eeflz4ea1t69Ahmzmy4AbcSPl/+rixepfd6WhWYWOvxh9my
b0k6WlK1pOpp7bDXxqxZLbudWW2zZhXXy2fWrPI70azL35XmK9dE0aCIGBQRVRFR1atXr7zDaXXF
dmhyxydriqI/X0vOT3e+/LJsp2rt1nlOcdv5u7JY5ZooJgGr13q8WrbMMocd1vA8KZ06pYnszBqr
qM9Xx/n8/IiO6cEpp6TrMn7zmzQh1owZpQ9ycSZPTlOSZonrsLVfoJMKz9fh70ph5ZooXgH6SFpL
UmdgAHBfzjGVlZNPLi5RnHhi68RjbUtRn68uHTnxpKyKauedoaoKbrwR9tknTYq1774LN54+vXTB
zp4Njz8O//M/aaiaVVeFww+HN94A4OR7t6PTkksUfAl/Vwor/O7lJCLmSToOeBjoCFwfEW/mHFZZ
WWcduPP3L7H/nzZmboeuzF3Q8dt1nTql2513trtBLq2FrLNO+vzsv3/qMVS711C9n6/99ku3OXPg
xRfhsccWzh8dkeZtWLAANt443dZbD7bdNv2w11zWUGju9og0EvLkyTBhAowZA/36waabpn3ttVd6
/rbbpkH8+vf/dhjwdfp0aNyx2KKKudii3G/t9YK7uPTSGLdh/zj2mHnRo0e6VqhHj4hjj40YNy7v
4KwtGDcufZ6a9fmaOzfi8ssjjjoqYpttIrp1S6nhpJPS+lmzIqSI5ZaLWHPNiHXXjdhgg4hBg9L6
999f9Eo5iLjyyrR+xoyIBx+MmD699MfSxlDkBXdl2T22sdpj99hvzZu3cB5ls0oQAR9/nMZPWmml
1N3owgtTiWHWrPSZnjs3lVAOOij1WT3/fFh55XRbbbVUQunZM+8jqXjFdo91oqhEEybA22/Dbrvl
HYmZVbBKv47CCjnjjNRgOHVq3pGYWTvgRFFpXnoJbr01dUtZccW8ozGzdsCJopJEwEknpXrd007L
OxozayfcClpJhg6F55+HQYPSePlmZq3AJYpKMn8+7LhjmsfXzKyVOFFUkoMOShcXdezY8LZmZi3E
iaISfPklXH99w4Pqm5mVgBNFJbjsMjjqKHj11bwjMbN2yImi3E2fnq5a3XNP2GabvKMxs3bIiaLc
XXghfPEF/OUveUdiZu2UE0U5mzIlVTsdfHAaJdPMLAdOFOVsyhTo2xfOPjvvSMysHfMFd+Vs882h
PQ12aGZlqVElCkkdJPUoVTBWy4gR+U4naWaWaTBRSPqXpB6SlgZGA29J+n3pQ2vHpk5No8Oeckre
kZiZFVWi6BsRXwD7AA8CawGehryULroIvvoKfu98bGb5KyZRdJLUiZQo7ouIuUDlz3ZUrj75BK68
EgYMgPXXzzsaM7OiEsU1wPvA0sDTktYEvihlUO3a5ZenITsGDsw7EjMzoIheTxFxOXB5rUUTJO1Q
upDauf/8J7VPbLRR3pGYmQEFEoWkwyLiZkknLWaTi0sUU/t2883wzTd5R2Fm9q1CJYqls7+eIac1
fPMNTJ4MvXtD5855R2Nm9q3FJoqIuCb7+6e66yT5l6yl3XprGiF25EjYbLO8ozEz+1Yx11E8Kal3
rcdbAa+UKiBJZ0uaJGlUdvtpqfZVNhYsSIP/bbSRx3Qys7JTzBAe5wEPSbocWBXYHfhlSaOCSyLi
/0q8j/IxfDi89VZqn5DyjsbM7DuK6fX0sKRjgBHAJ8D3I2JKySNrTy6+GFZfHQ48MO9IzMwWUUzV
0x+AvwHbAWcDT0rao8RxHS/pdUnXS1p2MXEdLalaUvW0adNKHE4JTZwIzz4Lxx8PnTrlHY2Z2SIU
Ufgia0mXAmdExFfZ4zWBf0TELk3eqfQo8L16Vg0EXiSVXAI4B1g5Io4s9HpVVVVRXcmjrE6aBN27
Qw+Pt2hmrUfSyIioami7YqqeTqjzeALQ5CSRvcbOxWwn6Vrggebsq6wtWAAdOsCqq+YdiZnZYjWY
KCT1Ak4D+gJda5ZHxI6lCEjSyhHxUfZwX9KItW3Tn/8Mzz0Hw4b52gkzK1vFjPV0CzCGNGrsn0jj
PpWseyxwoaQ3JL0O7ACcWMJ95efrr+Gqq6BrVycJMytrxXSPXT4irpP0u4h4CnhKUskSRUS0jyHM
//UvmDYNTmybedDM2o5iEsXc7O9HWW+nycBypQupHYiAK65IF9jt4PEVzay8FZMo/iJpGeBkUjfZ
HrTV6qDW8tJL8O9/p6onX2BnZmWumF5PNb2OPie1GVhzbbABXHIJHHZY3pGYmTWomMbsb0l6tVSB
tCs9e8IJJ6RrJ8zMylyjEgXgepLmuvlm+Oc/UzuFmVkFKGYIj+Ml9cweDitxPG3b/Plw1llw001u
mzCzilFMiWIloFrSEOBZyb9wTTZ8OEyYAMcem3ckZmZFazBRRMRZQB/gOuAXwLuSzpW0Tolja3uu
uQZWWQX23jvvSMzMilZUG0WkkQOnZLd5wLLAnZIuLGFsbcvEifDgg3DkkbBEMb2SzczKQzFjPf0O
OJw0ous/gN9HxFxJHYB3gVNLG2Ib8fHHsMUWabpTM7MKUsyp7XLAz7JRY78VEQsk9S9NWG1QVRW8
UsohsszMSqOYNoo/1k0StdaNafmQ2qD334fPP887CjOzJmnsdRTWFCeeCJttluafMDOrME4UpfbR
R3D//XDAAWmSIjOzCuNfrlK74YZ0od2vfpV3JGZmTeJEUUoRabiOn/wE1l8/72jMzJrEiaKUXn8d
3n0XfvnLvCMxM2syX/lVSpttBm+9BauvnnckZmZN5kRRahtumHcEZmbN4qqnUrnzThgwAGbMyDsS
M7NmcYmiVK69FsaOhR498o7EzKxZXKIohQ8/hBEj4IgjfO2EmVU8/4qVwk03pa6xhx+edyRmZs3m
RNHSImDw4HTtxDqessPMKl8uiULSAZLelLRAUlWddWdIGidprKTd8oivWebOhX33heOOyzsSM7MW
kVdj9mjgZ8A1tRdK6gsMADYCVgEelbReRMxv/RCbqHNnOPfcvKMwM2sxuZQoImJMRIytZ9XewG0R
MSci3gPGAVu3bnTNMH8+PPRQKlWYmbUR5dZGsSowsdbjD7Nli5B0tKRqSdXTpk1rleAa9MQTsPvu
cN99eUdiZtZiSlb1JOlR4Hv1rBoYEfc29/UjYhAwCKCqqiqa+3ot4uab03UTe+yRdyRmZi2mZIki
InZuwtMmAbUHRlotW1b+vvoK7roL9t8funbNOxozsxZTblVP9wEDJHWRtBbQB3g555iKc//9MHMm
HHpo3pGYmbWovLrH7ivpQ2BbYJikhwEi4k1gCPAW8BBwbMX0eBo+HFZZBbbfPu9IzMxalCLKo3q/
OaqqqqK6ujrfIBYsgAkTYK218o3DzKxIkkZGRFVD25Vb1VPl6tDBScLM2iQnipZw5JFw3nl5R2Fm
VhJOFM316adpEEDPO2FmbZQTRXPddRfMmwcHHZR3JGZmJeFE0Vy33w7rrgvf/37ekZiZlYQTRXN8
/HEatuOgg0DKOxozs5JwomiOr79Os9gdfHDekZiZlYznzG6ONdeE66/POwozs5JyiaKppk+HUaPS
jHZmZm2YE0VTDRmSGrDffDPvSMzMSsqJoqmGDk29nTbaKO9IzMxKyomiKT77LPV22m8/93YyszbP
iaIp7r8/XWS33355R2JmVnJOFE1x332wxhpQ1eCgi2ZmFc/dY5ti8GAYP97VTmbWLrhE0RRLLw2b
bpp3FGZmrcKJorHOPBOuuirvKMzMWo0TRWN89RVcdhm88UbekZiZtRonisZ47DGYPRv23TfvSMzM
Wo0TRWMUTJewAAAJa0lEQVTcey/06AHbb593JGZmrcaJoljz56dusbvvDp075x2NmVmrcaIo1vTp
sOWWsP/+eUdiZtaqfB1FsVZYAYYPzzsKM7NW5xJFsaZOzTsCM7Nc5JIoJB0g6U1JCyRV1VreW9JX
kkZlt6vziG8RY8fCSivBbbflHYmZWavLq+ppNPAz4Jp61o2PiM1bOZ7C7r03/f3hD/ONw8wsB7kk
iogYA6BKGSvpnnvSJEVrrJF3JGZmra4c2yjWyqqdnpL0k8VtJOloSdWSqqdNm1a6aKZOhRdfhL33
Lt0+zMzKWMlKFJIeBb5Xz6qBEXHvYp72EbBGRHwqaUvgHkkbRcQXdTeMiEHAIICqqqrSTVz94INp
Xuw99yzZLszMylnJEkVE7NyE58wB5mT3R0oaD6wHVLdweMXbdVf4xz9S1ZOZWTtUVlVPknpJ6pjd
XxvoA/wn16BWXhmOOspzT5hZu5VX99h9JX0IbAsMk/Rwtmo74HVJo4A7gWMi4rM8YgTgtddSaeLL
L3MLwcwsb3n1erobuLue5UOBoa0f0WIMHgxXXAEDBuQdiZlZbsqq6qnsPPAA7LADdOuWdyRmZrlx
olicd9+Fd96B/v3zjsTMLFdOFIszbFj6u8ce+cZhZpYzJ4rFeftt2GgjWGutvCMxM8uVhxlfnKuv
dm8nMzNcoihs6aXzjsDMLHdOFPU5+WT4+c/zjsLMrCw4UdQVAXfe6WonM7OME0VdY8bABx9Av355
R2JmVhacKOp66KH014nCzAxwoljUQw9B376epMjMLOPusXVttx0ss0zeUZiZlQ0nirrOOivvCMzM
yoqrnmp7+2346qu8ozAzKytOFLX17w+HHJJ3FGZmZcWJosa4cTB+POzc6BlczczaNCeKGo88kv7u
umu+cZiZlRknihojRkDv3rDuunlHYmZWVpwoAObNg8cfh112ASnvaMzMyoq7xwJ06JBKFJ7y1Mxs
EU4UkBLF1lvnHYWZWVly1RPARRfBM8/kHYWZWVlyovj8czjtNHj44bwjMTMrS04UTz4J8+enhmwz
M1tELolC0v9KelvS65LultSz1rozJI2TNFbSbiUP5pFH0pSn225b8l2ZmVWivEoUI4CNI2JT4B3g
DABJfYEBwEZAP+AqSR1LG8kI2H576Ny5pLsxM6tUuSSKiHgkIuZlD18EVsvu7w3cFhFzIuI9YBxQ
uu5I06fDzJm+GtvMrIBy6B57JHB7dn9VUuKo8WG2bBGSjgaOBlijqZMMLbssTJ4Mc+c27flmZu1A
yRKFpEeB79WzamBE3JttMxCYB9zS2NePiEHAIICqqqpoRqCudjIzK6BkiSIiCg7DKukXQH9gp4io
+aGfBKxea7PVsmVmZpaTvHo99QNOBfaKiNm1Vt0HDJDURdJaQB/g5TxiNDOzJK82iiuALsAIpUH4
XoyIYyLiTUlDgLdIVVLHRsT8nGI0MzNyShQRsdixvCPir8BfWzEcMzMrwFdmm5lZQU4UZmZWkBOF
mZkV5ERhZmYFaeElDJVL0jRgQjNeYgXgkxYKJ09t5TjAx1KO2spxgI+lxpoR0auhjdpEomguSdUR
UZV3HM3VVo4DfCzlqK0cB/hYGstVT2ZmVpAThZmZFeREkQzKO4AW0laOA3ws5aitHAf4WBrFbRRm
ZlaQSxRmZlaQE4WZmRXkRAFIOkfS65JGSXpE0ip5x9RUkv5X0tvZ8dwtqWfeMTWVpAMkvSlpgaSK
68ooqZ+ksZLGSTo973iaStL1kqZKGp13LM0laXVJT0h6K/ts/S7vmJpCUldJL0t6LTuOP5V0f26j
AEk9IuKL7P5vgb4RcUzOYTWJpF2BxyNinqQLACLitJzDahJJGwILgGuAUyKiOueQiiapI/AOsAtp
St9XgIMj4q1cA2sCSdsBs4DBEbFx3vE0h6SVgZUj4lVJ3YGRwD6V9n9Rmp9h6YiYJakT8Czwu4h4
sYGnNolLFEBNksgsDVRs9oyIRyJiXvbwRdIsgRUpIsZExNi842iirYFxEfGfiPgGuA3YO+eYmiQi
ngY+yzuOlhARH0XEq9n9mcAYYNV8o2q8SGZlDztlt5L9bjlRZCT9VdJE4FDgf/KOp4UcCTyYdxDt
1KrAxFqPP6QCf5DaMkm9ge8DL+UbSdNI6ihpFDAVGBERJTuOdpMoJD0qaXQ9t70BImJgRKwO3AIc
l2+0hTV0LNk2A0mzBN6SX6QNK+ZYzFqapG7AUOCEOjUKFSMi5kfE5qRag60llaxaMK+pUFtdROxc
5Ka3AMOBP5YwnGZp6Fgk/QLoD+wUZd4I1Yj/S6WZBKxe6/Fq2TLLWVanPxS4JSLuyjue5oqIGZKe
APoBJelw0G5KFIVI6lPr4d7A23nF0lyS+gGnAntFxOy842nHXgH6SFpLUmdgAHBfzjG1e1kj8HXA
mIi4OO94mkpSr5oejZKWJHWaKNnvlns9AZKGAuuTethMAI6JiIo8+5M0DugCfJoterGCe3DtC/wN
6AXMAEZFxG75RlU8ST8FLgU6Atdn88FXHEm3AtuThrP+GPhjRFyXa1BNJOnHwDPAG6TvO8CZETE8
v6gaT9KmwI2kz1YHYEhE/Llk+3OiMDOzQlz1ZGZmBTlRmJlZQU4UZmZWkBOFmZkV5ERhZmYFOVGY
5UTSMZIOzzsOs4a4e6yZmRXkEoVZESRtlc3x0VXS0tkcABvX2WZPSS9J+nc2htVK2fLLJP1Pdn83
SU9L6iDpbEmnZMt/m82R8Lqk21r/CM0WzyUKsyJJ+gvQFVgS+DAizquzfllgRkSEpF8BG0bEyZKW
Ig3pcRxwNfDTiBgv6WxgVkT8n6TJwFoRMUdSz4iY0ZrHZlZIuxkU0KwF/Jn0g/818Nt61q8G3J5N
jtMZeA8gImZL+n/A08CJETG+nue+Dtwi6R7gnlIEb9ZUrnoyK97yQDegO9A1m8NkVDYnAKRxqa6I
iE2AX5NKHzU2IY2/tbhpdvcArgS2AF6R5JM4KxtOFGbFuwb4A2ko+guyOUw2z+YEAFiGhUOJH1Hz
JElrAieTJsnZXdI2tV9UUgdg9Yh4Ajgte51uJT0Ss0bwWYtZEbJurHMj4l/ZfNjPS9oxIh6vtdnZ
wB2SpgOPA2vVGtb6lIiYLOko4AZJW9V6XkfgZknLAAIudxuFlRM3ZpuZWUGuejIzs4KcKMzMrCAn
CjMzK8iJwszMCnKiMDOzgpwozMysICcKMzMr6P8D5uNM5W5UPWEAAAAASUVORK5CYII=
"
>
</div>

</div>

</div>
</div>

</div>
<div class="cell border-box-sizing text_cell rendered"><div class="prompt input_prompt">
</div>
<div class="inner_cell">
<div class="text_cell_render border-box-sizing rendered_html">
<p><a href="#ex2">Back to Exercise 2</a></p>
<p><a name="ex3answer">Answer to Exercise 3</a></p>

</div>
</div>
</div>
<div class="cell border-box-sizing code_cell rendered">
<div class="input">
<div class="prompt input_prompt">In&nbsp;[17]:</div>
<div class="inner_cell">
    <div class="input_area">
<div class=" highlight hl-ipython3"><pre><span></span><span class="n">holland</span> <span class="o">=</span> <span class="n">np</span><span class="o">.</span><span class="n">loadtxt</span><span class="p">(</span><span class="s1">&#39;holland_temperature.dat&#39;</span><span class="p">)</span>
<span class="n">newyork</span><span class="o">=</span> <span class="n">np</span><span class="o">.</span><span class="n">loadtxt</span><span class="p">(</span><span class="s1">&#39;newyork_temperature.dat&#39;</span><span class="p">)</span>
<span class="n">beijing</span> <span class="o">=</span> <span class="n">np</span><span class="o">.</span><span class="n">loadtxt</span><span class="p">(</span><span class="s1">&#39;beijing_temperature.dat&#39;</span><span class="p">)</span>
<span class="n">plt</span><span class="o">.</span><span class="n">plot</span><span class="p">(</span><span class="n">np</span><span class="o">.</span><span class="n">linspace</span><span class="p">(</span><span class="mi">1</span><span class="p">,</span> <span class="mi">12</span><span class="p">,</span> <span class="mi">12</span><span class="p">),</span> <span class="n">holland</span><span class="p">)</span>
<span class="n">plt</span><span class="o">.</span><span class="n">plot</span><span class="p">(</span><span class="n">np</span><span class="o">.</span><span class="n">linspace</span><span class="p">(</span><span class="mi">1</span><span class="p">,</span> <span class="mi">12</span><span class="p">,</span> <span class="mi">12</span><span class="p">),</span> <span class="n">newyork</span><span class="p">)</span>
<span class="n">plt</span><span class="o">.</span><span class="n">plot</span><span class="p">(</span><span class="n">np</span><span class="o">.</span><span class="n">linspace</span><span class="p">(</span><span class="mi">1</span><span class="p">,</span> <span class="mi">12</span><span class="p">,</span> <span class="mi">12</span><span class="p">),</span> <span class="n">beijing</span><span class="p">)</span>
<span class="n">plt</span><span class="o">.</span><span class="n">xlabel</span><span class="p">(</span><span class="s1">&#39;Number of the month&#39;</span><span class="p">)</span>
<span class="n">plt</span><span class="o">.</span><span class="n">ylabel</span><span class="p">(</span><span class="s1">&#39;Mean monthly temperature (Celcius)&#39;</span><span class="p">)</span>
<span class="n">plt</span><span class="o">.</span><span class="n">xlim</span><span class="p">(</span><span class="mi">1</span><span class="p">,</span> <span class="mi">12</span><span class="p">)</span>
<span class="n">plt</span><span class="o">.</span><span class="n">legend</span><span class="p">([</span><span class="s1">&#39;Holland&#39;</span><span class="p">,</span><span class="s1">&#39;New York&#39;</span><span class="p">,</span><span class="s1">&#39;Beijing&#39;</span><span class="p">],</span> <span class="n">loc</span><span class="o">=</span><span class="s1">&#39;best&#39;</span><span class="p">);</span>
</pre></div>

</div>
</div>
</div>

<div class="output_wrapper">
<div class="output">


<div class="output_area">

<div class="prompt"></div>




<div class="output_png output_subarea ">
<img src="data:image/png;base64,iVBORw0KGgoAAAANSUhEUgAAAYcAAAEKCAYAAAD5MJl4AAAABHNCSVQICAgIfAhkiAAAAAlwSFlz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"
>
</div>

</div>

</div>
</div>

</div>
<div class="cell border-box-sizing text_cell rendered"><div class="prompt input_prompt">
</div>
<div class="inner_cell">
<div class="text_cell_render border-box-sizing rendered_html">
<p><a href="#ex3">Back to Exercise 3</a></p>
<p><a name="ex4answer">Answer to Exercise 4</a></p>

</div>
</div>
</div>
<div class="cell border-box-sizing code_cell rendered">
<div class="input">
<div class="prompt input_prompt">In&nbsp;[18]:</div>
<div class="inner_cell">
    <div class="input_area">
<div class=" highlight hl-ipython3"><pre><span></span><span class="n">air</span> <span class="o">=</span> <span class="n">np</span><span class="o">.</span><span class="n">loadtxt</span><span class="p">(</span><span class="s1">&#39;holland_temperature.dat&#39;</span><span class="p">)</span> 
<span class="n">sea</span> <span class="o">=</span> <span class="n">np</span><span class="o">.</span><span class="n">loadtxt</span><span class="p">(</span><span class="s1">&#39;holland_seawater.dat&#39;</span><span class="p">)</span>
<span class="n">plt</span><span class="o">.</span><span class="n">subplot</span><span class="p">(</span><span class="mi">211</span><span class="p">)</span>
<span class="n">plt</span><span class="o">.</span><span class="n">plot</span><span class="p">(</span><span class="n">air</span><span class="p">,</span> <span class="s1">&#39;b&#39;</span><span class="p">,</span> <span class="n">label</span><span class="o">=</span><span class="s1">&#39;air temp&#39;</span><span class="p">)</span>
<span class="n">plt</span><span class="o">.</span><span class="n">plot</span><span class="p">(</span><span class="n">sea</span><span class="p">,</span> <span class="s1">&#39;r&#39;</span><span class="p">,</span> <span class="n">label</span><span class="o">=</span><span class="s1">&#39;sea temp&#39;</span><span class="p">)</span>
<span class="n">plt</span><span class="o">.</span><span class="n">legend</span><span class="p">(</span><span class="n">loc</span><span class="o">=</span><span class="s1">&#39;best&#39;</span><span class="p">)</span>
<span class="n">plt</span><span class="o">.</span><span class="n">ylabel</span><span class="p">(</span><span class="s1">&#39;temp (Celcius)&#39;</span><span class="p">)</span>
<span class="n">plt</span><span class="o">.</span><span class="n">xlim</span><span class="p">(</span><span class="mi">0</span><span class="p">,</span> <span class="mi">11</span><span class="p">)</span>
<span class="n">plt</span><span class="o">.</span><span class="n">xticks</span><span class="p">([])</span>
<span class="n">plt</span><span class="o">.</span><span class="n">subplot</span><span class="p">(</span><span class="mi">212</span><span class="p">)</span>
<span class="n">plt</span><span class="o">.</span><span class="n">plot</span><span class="p">(</span><span class="n">air</span><span class="o">-</span><span class="n">sea</span><span class="p">,</span> <span class="s1">&#39;ko&#39;</span><span class="p">)</span>
<span class="n">plt</span><span class="o">.</span><span class="n">xticks</span><span class="p">(</span><span class="n">np</span><span class="o">.</span><span class="n">linspace</span><span class="p">(</span><span class="mi">0</span><span class="p">,</span> <span class="mi">11</span><span class="p">,</span> <span class="mi">12</span><span class="p">),</span>
           <span class="p">[</span><span class="s1">&#39;jan&#39;</span><span class="p">,</span><span class="s1">&#39;feb&#39;</span><span class="p">,</span><span class="s1">&#39;mar&#39;</span><span class="p">,</span><span class="s1">&#39;apr&#39;</span><span class="p">,</span><span class="s1">&#39;may&#39;</span><span class="p">,</span><span class="s1">&#39;jun&#39;</span><span class="p">,</span><span class="s1">&#39;jul&#39;</span><span class="p">,</span><span class="s1">&#39;aug&#39;</span><span class="p">,</span><span class="s1">&#39;sep&#39;</span><span class="p">,</span><span class="s1">&#39;oct&#39;</span><span class="p">,</span><span class="s1">&#39;nov&#39;</span><span class="p">,</span><span class="s1">&#39;dec&#39;</span><span class="p">])</span>
<span class="n">plt</span><span class="o">.</span><span class="n">xlim</span><span class="p">(</span><span class="mi">0</span><span class="p">,</span> <span class="mi">11</span><span class="p">)</span>
<span class="n">plt</span><span class="o">.</span><span class="n">ylabel</span><span class="p">(</span><span class="s1">&#39;air - sea temp (Celcius)&#39;</span><span class="p">);</span>
</pre></div>

</div>
</div>
</div>

<div class="output_wrapper">
<div class="output">


<div class="output_area">

<div class="prompt"></div>




<div class="output_png output_subarea ">
<img src="data:image/png;base64,iVBORw0KGgoAAAANSUhEUgAAAZMAAAD8CAYAAACyyUlaAAAABHNCSVQICAgIfAhkiAAAAAlwSFlz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"
>
</div>

</div>

</div>
</div>

</div>
<div class="cell border-box-sizing text_cell rendered"><div class="prompt input_prompt">
</div>
<div class="inner_cell">
<div class="text_cell_render border-box-sizing rendered_html">
<p><a href="#ex4">Back to Exercise 4</a></p>
<p><a name="ex5answer">Answer to Exercise 5</a></p>

</div>
</div>
</div>
<div class="cell border-box-sizing code_cell rendered">
<div class="input">
<div class="prompt input_prompt">In&nbsp;[19]:</div>
<div class="inner_cell">
    <div class="input_area">
<div class=" highlight hl-ipython3"><pre><span></span><span class="n">gold</span> <span class="o">=</span> <span class="p">[</span><span class="mi">46</span><span class="p">,</span> <span class="mi">38</span><span class="p">,</span> <span class="mi">29</span><span class="p">,</span> <span class="mi">24</span><span class="p">,</span> <span class="mi">13</span><span class="p">,</span> <span class="mi">11</span><span class="p">,</span> <span class="mi">11</span><span class="p">,</span> <span class="mi">8</span><span class="p">,</span> <span class="mi">8</span><span class="p">,</span> <span class="mi">7</span><span class="p">,</span> <span class="mi">107</span><span class="p">]</span>
<span class="n">countries</span> <span class="o">=</span> <span class="p">[</span><span class="s1">&#39;USA&#39;</span><span class="p">,</span> <span class="s1">&#39;CHN&#39;</span><span class="p">,</span> <span class="s1">&#39;GBR&#39;</span><span class="p">,</span> <span class="s1">&#39;RUS&#39;</span><span class="p">,</span> <span class="s1">&#39;KOR&#39;</span><span class="p">,</span> <span class="s1">&#39;GER&#39;</span><span class="p">,</span> <span class="s1">&#39;FRA&#39;</span><span class="p">,</span> <span class="s1">&#39;ITA&#39;</span><span class="p">,</span> <span class="s1">&#39;HUN&#39;</span><span class="p">,</span> <span class="s1">&#39;AUS&#39;</span><span class="p">,</span> <span class="s1">&#39;OTHER&#39;</span><span class="p">]</span>
<span class="n">plt</span><span class="o">.</span><span class="n">pie</span><span class="p">(</span><span class="n">gold</span><span class="p">,</span> <span class="n">labels</span> <span class="o">=</span> <span class="n">countries</span><span class="p">,</span> <span class="n">colors</span> <span class="o">=</span> <span class="p">[</span><span class="s1">&#39;Gold&#39;</span><span class="p">,</span> <span class="s1">&#39;MediumBlue&#39;</span><span class="p">,</span> <span class="s1">&#39;SpringGreen&#39;</span><span class="p">,</span> <span class="s1">&#39;BlueViolet&#39;</span><span class="p">])</span>
<span class="n">plt</span><span class="o">.</span><span class="n">axis</span><span class="p">(</span><span class="s1">&#39;equal&#39;</span><span class="p">);</span>
</pre></div>

</div>
</div>
</div>

<div class="output_wrapper">
<div class="output">


<div class="output_area">

<div class="prompt"></div>




<div class="output_png output_subarea ">
<img src="data:image/png;base64,iVBORw0KGgoAAAANSUhEUgAAAWQAAADuCAYAAAAOR30qAAAABHNCSVQICAgIfAhkiAAAAAlwSFlz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"
>
</div>

</div>

</div>
</div>

</div>
<div class="cell border-box-sizing text_cell rendered"><div class="prompt input_prompt">
</div>
<div class="inner_cell">
<div class="text_cell_render border-box-sizing rendered_html">
<p><a href="#ex5">Back to Exercise 5</a></p>
<p><a name="ex6answer">Answer to Exercise 6</a></p>

</div>
</div>
</div>
<div class="cell border-box-sizing code_cell rendered">
<div class="input">
<div class="prompt input_prompt">In&nbsp;[20]:</div>
<div class="inner_cell">
    <div class="input_area">
<div class=" highlight hl-ipython3"><pre><span></span><span class="n">air</span> <span class="o">=</span> <span class="n">np</span><span class="o">.</span><span class="n">loadtxt</span><span class="p">(</span><span class="s1">&#39;holland_temperature.dat&#39;</span><span class="p">)</span> 
<span class="n">sea</span> <span class="o">=</span> <span class="n">np</span><span class="o">.</span><span class="n">loadtxt</span><span class="p">(</span><span class="s1">&#39;holland_seawater.dat&#39;</span><span class="p">)</span>
<span class="n">plt</span><span class="o">.</span><span class="n">fill_between</span><span class="p">(</span><span class="nb">range</span><span class="p">(</span><span class="mi">1</span><span class="p">,</span> <span class="mi">13</span><span class="p">),</span> <span class="n">air</span><span class="p">,</span> <span class="n">color</span><span class="o">=</span><span class="s1">&#39;b&#39;</span><span class="p">,</span> <span class="n">alpha</span><span class="o">=</span><span class="mf">0.3</span><span class="p">)</span>
<span class="n">plt</span><span class="o">.</span><span class="n">fill_between</span><span class="p">(</span><span class="nb">range</span><span class="p">(</span><span class="mi">1</span><span class="p">,</span> <span class="mi">13</span><span class="p">),</span> <span class="n">sea</span><span class="p">,</span> <span class="n">color</span><span class="o">=</span><span class="s1">&#39;r&#39;</span><span class="p">,</span> <span class="n">alpha</span><span class="o">=</span><span class="mf">0.3</span><span class="p">)</span>
<span class="n">plt</span><span class="o">.</span><span class="n">xticks</span><span class="p">(</span><span class="n">np</span><span class="o">.</span><span class="n">linspace</span><span class="p">(</span><span class="mi">0</span><span class="p">,</span> <span class="mi">11</span><span class="p">,</span> <span class="mi">12</span><span class="p">),</span> <span class="p">[</span><span class="s1">&#39;jan&#39;</span><span class="p">,</span> <span class="s1">&#39;feb&#39;</span><span class="p">,</span> <span class="s1">&#39;mar&#39;</span><span class="p">,</span> <span class="s1">&#39;apr&#39;</span><span class="p">,</span>\
           <span class="s1">&#39;may&#39;</span><span class="p">,</span> <span class="s1">&#39;jun&#39;</span><span class="p">,</span> <span class="s1">&#39;jul&#39;</span><span class="p">,</span> <span class="s1">&#39;aug&#39;</span><span class="p">,</span> <span class="s1">&#39;sep&#39;</span><span class="p">,</span> <span class="s1">&#39; oct&#39;</span><span class="p">,</span> <span class="s1">&#39;nov&#39;</span><span class="p">,</span> <span class="s1">&#39;dec&#39;</span><span class="p">])</span>
<span class="n">plt</span><span class="o">.</span><span class="n">xlim</span><span class="p">(</span><span class="mi">1</span><span class="p">,</span> <span class="mi">12</span><span class="p">)</span>
<span class="n">plt</span><span class="o">.</span><span class="n">ylim</span><span class="p">(</span><span class="mi">0</span><span class="p">,</span> <span class="mi">20</span><span class="p">)</span>
<span class="n">plt</span><span class="o">.</span><span class="n">xlabel</span><span class="p">(</span><span class="s1">&#39;Month&#39;</span><span class="p">)</span>
<span class="n">plt</span><span class="o">.</span><span class="n">ylabel</span><span class="p">(</span><span class="s1">&#39;Temperature (Celcius)&#39;</span><span class="p">);</span>
</pre></div>

</div>
</div>
</div>

<div class="output_wrapper">
<div class="output">


<div class="output_area">

<div class="prompt"></div>




<div class="output_png output_subarea ">
<img src="data:image/png;base64,iVBORw0KGgoAAAANSUhEUgAAAYwAAAEKCAYAAAAB0GKPAAAABHNCSVQICAgIfAhkiAAAAAlwSFlz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"
>
</div>

</div>

</div>
</div>

</div>
<div class="cell border-box-sizing text_cell rendered"><div class="prompt input_prompt">
</div>
<div class="inner_cell">
<div class="text_cell_render border-box-sizing rendered_html">
<p><a href="#ex6">Back to Exercise 6</a></p>

</div>
</div>
</div>
 


    </div>
  </div>

  </div>


  
    <footer class="footer hidden-print">
      <div class="container">
        <div class="col-md-4">
          <p>
            This website does not host notebooks, it only renders notebooks
            available on other websites.
          </p>
        </div>

        <div class="col-md-4">
          <p>
            Delivered by <a href="http://www.fastly.com/">Fastly</a>,
            Rendered by <a href="https://developer.rackspace.com/?nbviewer=awesome">Rackspace</a>
          </p>
          <p>
            nbviewer GitHub <a href="https://github.com/jupyter/nbviewer">repository</a>.
          </p>
        </div>

        <div class="col-md-4">
          
  
            
              <p>
                nbviewer version:
                <a href="https://github.com/jupyter/nbviewer/commit/38e181afeec4b7527a8a13ef7c3814e36045244c">
                  38e181a
                </a>
              </p>
            
          
  
  <p>
    nbconvert version: <a href="https://github.com/jupyter/nbconvert/releases/tag/5.3.1">
      5.3.1
    </a>
  </p>
  

          
  
  
  <p>
    Rendered
    <span class='date' data-date='Wed, 01 Aug 2018 10:50:52 UTC' title='Wed, 01 Aug 2018 10:50:52 UTC'>(Wed, 01 Aug 2018 10:50:52 UTC)</span>
  </p>
  

        </div>
      </div>
    </footer>
  

  <script src="/static/components/bootstrap/js/bootstrap.min.js?v=5869c96cc8f19086aee625d670d741f9"></script>
  <script src="/static/components/headroom.js/dist/headroom.min.js?v=b0a311ea668f8e768ea375f4a7abb81c"></script>
  <script src="/static/components/headroom.js/dist/jQuery.headroom.min.js?v=f3a1bae118315d0c234afc74dc6aab71"></script>

  
  
  <script>
    $(function(){ $("#menubar").headroom({
      tolerance: 5,
      offset: 205,
      classes: {
        initial: "animated",
        pinned: "slideInDown",
        unpinned: "slideOutUp"
      }
    })});
  </script>


  
  <script>
    (function(i,s,o,g,r,a,m){i['GoogleAnalyticsObject']=r;i[r]=i[r]||function(){
      (i[r].q=i[r].q||[]).push(arguments)},i[r].l=1*new Date();a=s.createElement(o),
      m=s.getElementsByTagName(o)[0];a.async=1;a.src=g;m.parentNode.insertBefore(a,m)
    })(window,document,'script','https://www.google-analytics.com/analytics.js','ga');
    ga('create', 'UA-52617120-5', 'auto',
       {'storage': 'none'});
    ga('set', 'anonymizeIp', true);
    ga('send', 'pageview');
  </script>
  
  <script>
    require({
        paths: {
          moment: "/static/components/moment/min/moment.min.js?v=89f87298ad94aa1e6b92f42eb66da043"
        }
      }, ["moment"], function(moment){
      var date = $("footer .date"),
        m = moment(new Date(date.data('date'))),
        update = function(){ date.text(m.fromNow()); };
      setInterval(update, 61*1000);
      update();
      var w = $(window).scroll(function(event){
        $("body").toggleClass("scrolled", w.scrollTop() > 0);
      });
    });
  </script>

  <!--NEW RELIC Stop Perf Measurement-->
  
  <!--NEW RELIC End-->
</body>
</html>